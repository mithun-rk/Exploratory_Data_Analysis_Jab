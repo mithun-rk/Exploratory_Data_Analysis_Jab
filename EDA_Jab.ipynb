{
 "cells": [
  {
   "cell_type": "markdown",
   "metadata": {
    "id": "N2HX33n-75hD"
   },
   "source": [
    "# Data Visualization with Python"
   ]
  },
  {
   "cell_type": "code",
   "execution_count": null,
   "metadata": {
    "id": "43iHPuZJfuMt"
   },
   "outputs": [],
   "source": [
    "# from google.colab import drive\n",
    "# drive.mount('/content/drive')"
   ]
  },
  {
   "cell_type": "code",
   "execution_count": 1,
   "metadata": {
    "id": "VIiUgH835IuJ"
   },
   "outputs": [],
   "source": [
    "# Libraries to help with reading and manipulating data\n",
    "import numpy as np\n",
    "import pandas as pd\n",
    "\n",
    "# Libraries to help with data visualization\n",
    "import matplotlib.pyplot as plt\n",
    "import seaborn as sns\n",
    "\n",
    "# Command to tell Python to actually display the graphs\n",
    "%matplotlib inline"
   ]
  },
  {
   "cell_type": "code",
   "execution_count": 2,
   "metadata": {
    "id": "_4PnXDoX5IuL"
   },
   "outputs": [],
   "source": [
    "df = pd.read_csv('Automobile.csv')\n",
    "# df = pd.read_csv('/location on your computer/Automobile (1).csv')"
   ]
  },
  {
   "cell_type": "code",
   "execution_count": null,
   "metadata": {
    "colab": {
     "base_uri": "https://localhost:8080/",
     "height": 322
    },
    "id": "ep11mXFZ5IuM",
    "outputId": "8df31456-ae47-4042-c9b1-ebcf0a0c1209"
   },
   "outputs": [],
   "source": [
    "df.head()"
   ]
  },
  {
   "cell_type": "code",
   "execution_count": null,
   "metadata": {
    "colab": {
     "base_uri": "https://localhost:8080/"
    },
    "id": "axRBUIrM5IuN",
    "outputId": "69a6075e-97e4-4090-c487-a30d1c677441"
   },
   "outputs": [],
   "source": [
    "df.shape"
   ]
  },
  {
   "cell_type": "markdown",
   "metadata": {
    "id": "8ji2SmBj75hK"
   },
   "source": [
    "- The data has 201 rows and 26 columns."
   ]
  },
  {
   "cell_type": "code",
   "execution_count": null,
   "metadata": {
    "colab": {
     "base_uri": "https://localhost:8080/"
    },
    "id": "ex4GmTCS5IuN",
    "outputId": "48dea21e-7430-45ee-fc5c-4466ea726e69"
   },
   "outputs": [],
   "source": [
    "df.info()"
   ]
  },
  {
   "cell_type": "markdown",
   "metadata": {
    "id": "3hLDWznE75hL"
   },
   "source": [
    "- There are attributes of different types (*int*, *float*, *object*) in the data."
   ]
  },
  {
   "cell_type": "code",
   "execution_count": null,
   "metadata": {
    "colab": {
     "base_uri": "https://localhost:8080/",
     "height": 166
    },
    "id": "-myaWt-Y5IuN",
    "outputId": "c099de80-0102-4cfb-ff89-8341b2c01ada"
   },
   "outputs": [],
   "source": [
    "df.describe(include = \"all\").T"
   ]
  },
  {
   "cell_type": "markdown",
   "metadata": {
    "id": "6y3Rvun175hM"
   },
   "source": [
    "- The car price ranges from 5118 to 45400 units.\n",
    "- The car weight ranges from 1488 to 4066 units.\n",
    "- The most common car make in the data is of Toyota."
   ]
  },
  {
   "cell_type": "code",
   "execution_count": null,
   "metadata": {
    "id": "MYZDmUTb7jWG"
   },
   "outputs": [],
   "source": [
    "201*.64\n"
   ]
  },
  {
   "cell_type": "code",
   "execution_count": null,
   "metadata": {},
   "outputs": [],
   "source": [
    "13207-7947"
   ]
  },
  {
   "cell_type": "code",
   "execution_count": null,
   "metadata": {},
   "outputs": [],
   "source": [
    "13207+7947\n"
   ]
  },
  {
   "cell_type": "markdown",
   "metadata": {
    "id": "_ZMHhyuU5IuO"
   },
   "source": [
    "## Histogram\n",
    "\n",
    "- A **histogram** is a univariate plot which helps us understand the distribution of a continuous numerical variable.\n",
    "- It breaks the range of the continuous variables into a intervals of equal length and then counts the number of observations in each interval.\n",
    "- We will use the *histplot()* function of seaborn to create histograms."
   ]
  },
  {
   "cell_type": "code",
   "execution_count": 4,
   "metadata": {
    "colab": {
     "base_uri": "https://localhost:8080/"
    },
    "id": "-Jwklh5X5IuP",
    "outputId": "b67d50a2-bce6-4290-fcf1-41a997365e8e"
   },
   "outputs": [
    {
     "data": {
      "text/plain": [
       "<AxesSubplot:xlabel='price', ylabel='Count'>"
      ]
     },
     "execution_count": 4,
     "metadata": {},
     "output_type": "execute_result"
    },
    {
     "data": {
      "image/png": "[encoded data removed]",
      "text/plain": [
       "<Figure size 432x288 with 1 Axes>"
      ]
     },
     "metadata": {
      "needs_background": "light"
     },
     "output_type": "display_data"
    }
   ],
   "source": [
    "sns.histplot(data=df, x='price')"
   ]
  },
  {
   "cell_type": "markdown",
   "metadata": {
    "id": "bBA_Tspd5IuP"
   },
   "source": [
    "**We can specify the number of intervals (or groups or bins) to create by setting the *bins* parameter.**\n",
    "\n",
    "- If not specified it is passed to [numpy.histogram_bin_edges()](https://numpy.org/doc/stable/reference/generated/numpy.histogram_bin_edges.html#numpy.histogram_bin_edges)"
   ]
  },
  {
   "cell_type": "code",
   "execution_count": null,
   "metadata": {
    "colab": {
     "base_uri": "https://localhost:8080/"
    },
    "id": "S7FUZDs65IuQ",
    "outputId": "431517a5-170d-4ed2-a4f8-b61ad32988b6"
   },
   "outputs": [],
   "source": [
    "sns.histplot(data=df, x='price', bins=5)"
   ]
  },
  {
   "cell_type": "code",
   "execution_count": null,
   "metadata": {
    "colab": {
     "base_uri": "https://localhost:8080/"
    },
    "id": "RxGGf9Kg5IuQ",
    "outputId": "8a7190cd-cfcf-4543-b7f3-afdcec01599c"
   },
   "outputs": [],
   "source": [
    "sns.histplot(data=df, x='price', bins=20)"
   ]
  },
  {
   "cell_type": "markdown",
   "metadata": {
    "id": "TwjJdJKSeYng"
   },
   "source": [
    "**If we want to specify the width of the intervals (or groups or bins), we can use *binwidth* parameter.**"
   ]
  },
  {
   "cell_type": "code",
   "execution_count": null,
   "metadata": {
    "colab": {
     "base_uri": "https://localhost:8080/"
    },
    "id": "iKR0iV6ZeYng",
    "outputId": "5373366e-6398-410d-937b-2cb11ae075e5"
   },
   "outputs": [],
   "source": [
    "sns.histplot(data=df, x='price', binwidth=20)"
   ]
  },
  {
   "cell_type": "code",
   "execution_count": null,
   "metadata": {
    "colab": {
     "base_uri": "https://localhost:8080/"
    },
    "id": "WfzCaoTheYnh",
    "outputId": "41d6008c-8dfe-4ef1-d934-983826a06203"
   },
   "outputs": [],
   "source": [
    "sns.histplot(data=df, x='price', binwidth=200)"
   ]
  },
  {
   "cell_type": "markdown",
   "metadata": {
    "id": "ykUoSGy7eYnh"
   },
   "source": [
    "**How to find the optimal number of bins: Rule of thumb**\n",
    "\n",
    "- We calculate the bin-width first, using the following formula: $$ binwidth =\\frac{(2 * IQR)}{\\sqrt[3]{n}} $$ where n = number of rows the dataset\n",
    "\n",
    "- Then, we obtain bins using the calculated bin-width. $$ bins =\\frac{Range}{binwidth} $$"
   ]
  },
  {
   "cell_type": "markdown",
   "metadata": {
    "id": "ho0PxE275IuR"
   },
   "source": [
    "**In addition to the bars, we can also add a density estimate by setting the *kde* parameter to *True*.**\n",
    "\n",
    "- **Kernel Density Estimation**, or **KDE**, visualizes the distribution of data over a continuous interval. \n",
    "- The conventional scale for KDE is: **Total frequency of each bin × Probability**"
   ]
  },
  {
   "cell_type": "code",
   "execution_count": 3,
   "metadata": {
    "colab": {
     "base_uri": "https://localhost:8080/"
    },
    "id": "mjny7GLv5IuR",
    "outputId": "f69ff1eb-c7ca-49f9-80da-99d0d9a203a7"
   },
   "outputs": [
    {
     "data": {
      "image/png": "[encoded data removed]",
      "text/plain": [
       "<Figure size 432x288 with 1 Axes>"
      ]
     },
     "metadata": {
      "needs_background": "light"
     },
     "output_type": "display_data"
    }
   ],
   "source": [
    "sns.histplot(data=df, x='price', kde=True);"
   ]
  },
  {
   "cell_type": "code",
   "execution_count": 5,
   "metadata": {
    "colab": {
     "base_uri": "https://localhost:8080/"
    },
    "id": "hr_E-_lv5IuS",
    "outputId": "ad31f528-2187-4776-d857-8ead6e14d229"
   },
   "outputs": [
    {
     "data": {
      "image/png": "[encoded data removed]",
      "text/plain": [
       "<Figure size 432x288 with 1 Axes>"
      ]
     },
     "metadata": {
      "needs_background": "light"
     },
     "output_type": "display_data"
    }
   ],
   "source": [
    "sns.histplot(data=df, x='price', bins=700, kde=True);"
   ]
  },
  {
   "cell_type": "markdown",
   "metadata": {
    "id": "K8odvDwSeYni"
   },
   "source": [
    "Clearly, if we increase the number of bins, it reduces the frequency count in each group (bin). Since the scale of KDE depends on the total frequency of each bin (group), the above code gives us a flattened KDE plot."
   ]
  },
  {
   "cell_type": "markdown",
   "metadata": {
    "id": "YrNe76c55IuS"
   },
   "source": [
    "**Let's check out the histograms for a few more attributes in the data.**"
   ]
  },
  {
   "cell_type": "code",
   "execution_count": 6,
   "metadata": {
    "colab": {
     "base_uri": "https://localhost:8080/"
    },
    "id": "lvkFthd_5IuS",
    "outputId": "abc65643-4837-49cc-d5b6-9818a7338442"
   },
   "outputs": [
    {
     "data": {
      "image/png": "[encoded data removed]",
      "text/plain": [
       "<Figure size 432x288 with 1 Axes>"
      ]
     },
     "metadata": {
      "needs_background": "light"
     },
     "output_type": "display_data"
    }
   ],
   "source": [
    "sns.histplot(data=df, x='curb_weight', kde=True);"
   ]
  },
  {
   "cell_type": "markdown",
   "metadata": {
    "id": "hU64jtH-eYnj"
   },
   "source": [
    "- A histogram is said to be **symmetric** if the left-hand and right-hand sides resemble mirror images of each other when the histogram is cut down the middle."
   ]
  },
  {
   "cell_type": "code",
   "execution_count": 7,
   "metadata": {
    "colab": {
     "base_uri": "https://localhost:8080/"
    },
    "id": "EPGmJKGO5IuS",
    "outputId": "a720d602-debc-4412-f5d1-76d88c3e9db3"
   },
   "outputs": [
    {
     "data": {
      "image/png": "[encoded data removed]",
      "text/plain": [
       "<Figure size 432x288 with 1 Axes>"
      ]
     },
     "metadata": {
      "needs_background": "light"
     },
     "output_type": "display_data"
    }
   ],
   "source": [
    "sns.histplot(data=df, x='horsepower', kde=True);"
   ]
  },
  {
   "cell_type": "markdown",
   "metadata": {
    "id": "T2Nu0xFSeYnj"
   },
   "source": [
    "- The tallest clusters of bars, i.e., peaks, in a histogram represent the **modes** of the data.\n",
    "- A histogram **skewed to the right** has a large number of occurrences on the left side of the plot and a few on the right side of the plot.\n",
    "- Similarly, a histogram **skewed to the left** has a large number of occurrences on the right side of the plot and few on the left side of the plot."
   ]
  },
  {
   "cell_type": "markdown",
   "metadata": {
    "id": "CVpitoKleYnk"
   },
   "source": [
    "**Histograms are intuitive but it is hardly a good choice when we want to compare the distributions of several groups. For example,**"
   ]
  },
  {
   "cell_type": "code",
   "execution_count": 8,
   "metadata": {
    "colab": {
     "base_uri": "https://localhost:8080/"
    },
    "id": "U8G-kAWGeYnk",
    "outputId": "c336d1f5-0e76-4e56-b7bc-9abda67f8bd0"
   },
   "outputs": [
    {
     "data": {
      "image/png": "[encoded data removed]",
      "text/plain": [
       "<Figure size 432x288 with 1 Axes>"
      ]
     },
     "metadata": {
      "needs_background": "light"
     },
     "output_type": "display_data"
    }
   ],
   "source": [
    "sns.histplot(data=df, x='price', hue='body_style', kde=True);"
   ]
  },
  {
   "cell_type": "markdown",
   "metadata": {
    "id": "KcZRBLmN--tA"
   },
   "source": [
    "It might be better to use subplots!"
   ]
  },
  {
   "cell_type": "code",
   "execution_count": 9,
   "metadata": {
    "colab": {
     "base_uri": "https://localhost:8080/"
    },
    "id": "z1Z1dl-6BVMA",
    "outputId": "eaf3b195-e768-4f88-b0b7-68904a12e874"
   },
   "outputs": [
    {
     "data": {
      "image/png": "[encoded data removed]",
      "text/plain": [
       "<Figure size 1080x216 with 5 Axes>"
      ]
     },
     "metadata": {
      "needs_background": "light"
     },
     "output_type": "display_data"
    }
   ],
   "source": [
    "g = sns.FacetGrid(df, col=\"body_style\")\n",
    "g.map(sns.histplot, \"price\");"
   ]
  },
  {
   "cell_type": "code",
   "execution_count": 12,
   "metadata": {},
   "outputs": [
    {
     "data": {
      "image/png": "[encoded data removed]",
      "text/plain": [
       "<Figure size 1080x216 with 5 Axes>"
      ]
     },
     "metadata": {
      "needs_background": "light"
     },
     "output_type": "display_data"
    }
   ],
   "source": [
    "g = sns.FacetGrid(df, col=\"body_style\")\n",
    "g.map(sns.histplot, \"price\");"
   ]
  },
  {
   "cell_type": "code",
   "execution_count": 11,
   "metadata": {},
   "outputs": [],
   "source": [
    "g.map(sns.histplot, \"price\");"
   ]
  },
  {
   "cell_type": "markdown",
   "metadata": {
    "id": "fzYXN1-a75hP"
   },
   "source": [
    "In such cases, we can use **boxplots**. Boxplots, or box-and-whiskers plots, are an excellent way to visualize differences among groups."
   ]
  },
  {
   "cell_type": "markdown",
   "metadata": {
    "id": "vEInLWSo5IuU"
   },
   "source": [
    "## Boxplot\n",
    "\n",
    "- A **boxplot**, or a **box-and-whisker plot**, shows the distribution of numerical data and skewness through displaying the data quartiles\n",
    "- It is also called a **five-number summary plot**, where the five-number summary includes the minimum value, first quartile, median, third quartile, and the maximum value.\n",
    "- The *boxplot()* function of seaborn can be used to create a boxplot."
   ]
  },
  {
   "cell_type": "code",
   "execution_count": null,
   "metadata": {
    "colab": {
     "base_uri": "https://localhost:8080/",
     "height": 35
    },
    "id": "YU3g9wFTeYnu",
    "outputId": "9c4eea87-6b2f-4090-96f1-da7e1d8092de"
   },
   "outputs": [],
   "source": [
    "from IPython.display import Image\n",
    "Image('/content/drive/MyDrive/Python Course/boxplot.png')\n"
   ]
  },
  {
   "cell_type": "code",
   "execution_count": 13,
   "metadata": {
    "colab": {
     "base_uri": "https://localhost:8080/"
    },
    "id": "0KpRGUH15IuU",
    "outputId": "26104b87-28f0-4d9a-80e1-c7793f73809e"
   },
   "outputs": [
    {
     "data": {
      "image/png": "[encoded data removed]",
      "text/plain": [
       "<Figure size 432x288 with 1 Axes>"
      ]
     },
     "metadata": {
      "needs_background": "light"
     },
     "output_type": "display_data"
    }
   ],
   "source": [
    "# creating a boxplot with seaborn\n",
    "sns.boxplot(data=df, x='curb_weight');"
   ]
  },
  {
   "cell_type": "markdown",
   "metadata": {
    "id": "0gNIxAvL-tJ-"
   },
   "source": [
    "- In a boxplot, when the median is closer to the left of the box and the whisker is shorter on the left end of the box, we say that the distribution is **positively skewed (skewed right)**.\n",
    "- Similarly, when the median is closer to the right of the box and the whisker is shorter on the right end of the box, we say that the distribution is **negatively skewed (skewed left)**."
   ]
  },
  {
   "cell_type": "code",
   "execution_count": null,
   "metadata": {
    "colab": {
     "base_uri": "https://localhost:8080/"
    },
    "id": "rh73sV5iBdnB",
    "outputId": "5265e301-c10c-4c33-ed9c-35bb60123217"
   },
   "outputs": [],
   "source": [
    "from IPython.display import Image\n",
    "Image('/content/drive/MyDrive/skew_box.png')\n",
    "# Image('skew_box.png')"
   ]
  },
  {
   "cell_type": "markdown",
   "metadata": {
    "id": "8eLH2ULT5vo9"
   },
   "source": [
    "**For example,**"
   ]
  },
  {
   "cell_type": "code",
   "execution_count": 14,
   "metadata": {
    "colab": {
     "base_uri": "https://localhost:8080/"
    },
    "id": "-5Ta38rV5IuU",
    "outputId": "b2e5af65-5ad6-4c8c-a49d-b1590244c9cd"
   },
   "outputs": [
    {
     "data": {
      "image/png": "[encoded data removed]",
      "text/plain": [
       "<Figure size 432x288 with 1 Axes>"
      ]
     },
     "metadata": {
      "needs_background": "light"
     },
     "output_type": "display_data"
    }
   ],
   "source": [
    "sns.boxplot(data=df, x='price');"
   ]
  },
  {
   "cell_type": "markdown",
   "metadata": {
    "id": "rP4KARhjBnn4"
   },
   "source": [
    "From the above plot, we can see that the distribution of `price` is positively skewed."
   ]
  },
  {
   "cell_type": "markdown",
   "metadata": {
    "id": "WV0AVUY1Ho5q"
   },
   "source": [
    "**Let's see how we can compare groups with boxplots.**"
   ]
  },
  {
   "cell_type": "code",
   "execution_count": 15,
   "metadata": {
    "colab": {
     "base_uri": "https://localhost:8080/"
    },
    "id": "qsuosVXAIBjO",
    "outputId": "ca04fc4e-a296-4b86-e6a4-2eff2a521b6c"
   },
   "outputs": [
    {
     "data": {
      "image/png": "[encoded data removed]",
      "text/plain": [
       "<Figure size 432x288 with 1 Axes>"
      ]
     },
     "metadata": {
      "needs_background": "light"
     },
     "output_type": "display_data"
    }
   ],
   "source": [
    "sns.boxplot(data=df, x='body_style', y='price') ;"
   ]
  },
  {
   "cell_type": "markdown",
   "metadata": {
    "id": "HNwpY-9ceYnw"
   },
   "source": [
    "**Though boxplot visually summarizes variation in large datasets, it is unable to show multimodality and clusters.**"
   ]
  },
  {
   "cell_type": "code",
   "execution_count": 16,
   "metadata": {
    "colab": {
     "base_uri": "https://localhost:8080/"
    },
    "id": "s6w1YYNaeYnw",
    "outputId": "5089bb20-339e-4ef3-d15e-14218d1c2886"
   },
   "outputs": [
    {
     "data": {
      "image/png": "[encoded data removed]",
      "text/plain": [
       "<Figure size 432x288 with 1 Axes>"
      ]
     },
     "metadata": {
      "needs_background": "light"
     },
     "output_type": "display_data"
    }
   ],
   "source": [
    "sns.boxplot(data=df, x='bore');"
   ]
  },
  {
   "cell_type": "markdown",
   "metadata": {
    "id": "exW4UuCReYnw"
   },
   "source": [
    "- From the above boxplot we can not tell if the data is bimodal or not, but it is clearly visible in the following histogram."
   ]
  },
  {
   "cell_type": "code",
   "execution_count": 17,
   "metadata": {
    "colab": {
     "base_uri": "https://localhost:8080/"
    },
    "id": "7w7iE4BVeYnw",
    "outputId": "0826f0e3-6a93-469b-a4e5-107e3ece7217"
   },
   "outputs": [
    {
     "data": {
      "image/png": "[encoded data removed]",
      "text/plain": [
       "<Figure size 432x288 with 1 Axes>"
      ]
     },
     "metadata": {
      "needs_background": "light"
     },
     "output_type": "display_data"
    }
   ],
   "source": [
    "sns.histplot(data=df, x='bore',kde = True);"
   ]
  },
  {
   "cell_type": "markdown",
   "metadata": {
    "id": "iVf003Gs5IuV"
   },
   "source": [
    "## Bar Graph\n",
    "\n",
    "- A bar graph is generally used to show the counts of observations in each bin (or level or group) of categorical variable using bars.\n",
    "- We can use the *countplot()* function of seaborn to plot a bar graph."
   ]
  },
  {
   "cell_type": "code",
   "execution_count": null,
   "metadata": {
    "colab": {
     "base_uri": "https://localhost:8080/",
     "height": 280
    },
    "id": "dVO4Q56f5IuV",
    "outputId": "8ef5ceda-e081-433c-ce19-e713ffc63902"
   },
   "outputs": [],
   "source": [
    "sns.countplot(data=df, x='body_style');"
   ]
  },
  {
   "cell_type": "markdown",
   "metadata": {
    "id": "4n0v6DcQ5IuV"
   },
   "source": [
    "**We can also make the plot more granular by specifying the *hue* parameter to display counts for subgroups.**"
   ]
  },
  {
   "cell_type": "code",
   "execution_count": null,
   "metadata": {
    "colab": {
     "base_uri": "https://localhost:8080/",
     "height": 280
    },
    "id": "xTHnIIKy5IuV",
    "outputId": "f5508c7a-0eab-4a30-d4b1-72dbb0dd67dd"
   },
   "outputs": [],
   "source": [
    "sns.countplot(data=df, x='body_style', hue='fuel_type');"
   ]
  },
  {
   "cell_type": "markdown",
   "metadata": {
    "id": "vmDOlVCT5IuV"
   },
   "source": [
    "**Let's check out the bar graphs for a few more attributes in the data.**"
   ]
  },
  {
   "cell_type": "code",
   "execution_count": null,
   "metadata": {
    "colab": {
     "base_uri": "https://localhost:8080/",
     "height": 279
    },
    "id": "qHcjy0Fv5IuV",
    "outputId": "1cdb5108-64a7-4705-cb6c-bc2f0831277a"
   },
   "outputs": [],
   "source": [
    "sns.countplot(data=df, x='make');"
   ]
  },
  {
   "cell_type": "markdown",
   "metadata": {
    "id": "HkLgJzv75IuW"
   },
   "source": [
    "- This plot looks a little messy and congested.\n",
    "- Let's increase the size of the plot to make it look better."
   ]
  },
  {
   "cell_type": "code",
   "execution_count": null,
   "metadata": {
    "colab": {
     "base_uri": "https://localhost:8080/",
     "height": 442
    },
    "id": "DUhQ71Xc5IuW",
    "outputId": "a6a65756-9600-4e30-cc9e-65413d030992"
   },
   "outputs": [],
   "source": [
    "plt.figure(figsize=(20,7))\n",
    "sns.countplot(data=df, x='make');"
   ]
  },
  {
   "cell_type": "markdown",
   "metadata": {
    "id": "yVK2igls5IuW"
   },
   "source": [
    "- Some of the tick marks on the x-axis are overlapping with each other.\n",
    "- Let's rotate the tick marks to make it look better."
   ]
  },
  {
   "cell_type": "code",
   "execution_count": null,
   "metadata": {
    "colab": {
     "base_uri": "https://localhost:8080/",
     "height": 544
    },
    "id": "hGSTXceH5IuW",
    "outputId": "244f55a5-9819-40a9-ef54-5e92d4c89d36"
   },
   "outputs": [],
   "source": [
    "plt.figure(figsize=(20,7))\n",
    "sns.countplot(data=df, x='make')\n",
    "plt.xticks(rotation=90)"
   ]
  },
  {
   "cell_type": "markdown",
   "metadata": {
    "id": "Ea22q-uo5IuW"
   },
   "source": [
    "- A lot of plot-specific text has shown up in the output.\n",
    "- Let's see how we can get rid of those."
   ]
  },
  {
   "cell_type": "code",
   "execution_count": null,
   "metadata": {
    "colab": {
     "base_uri": "https://localhost:8080/",
     "height": 509
    },
    "id": "fSHdavFm5IuW",
    "outputId": "ebd1b8be-cb26-4c3f-b205-912538f4d449"
   },
   "outputs": [],
   "source": [
    "plt.figure(figsize=(20,7))\n",
    "sns.countplot(data=df, x='make')\n",
    "plt.xticks(rotation=90)\n",
    "plt.show() # this will ensure that the plot is displayed without the text"
   ]
  },
  {
   "cell_type": "markdown",
   "metadata": {
    "id": "vabRDMbAU5Wi"
   },
   "source": [
    "## Customizing plots\n",
    "\n",
    "- In this section we will see how we can customize  plots by using different matplotlib and seaborn functions."
   ]
  },
  {
   "cell_type": "markdown",
   "metadata": {
    "id": "PWBp8W5rZ__D"
   },
   "source": [
    "To change the axis scales of a plot:\n",
    "\n",
    "```\n",
    "    plt.xlim(left, right)   # here left and right indicates the min and the max limits of  x-axis respectively\n",
    "    plt.ylim(bottom, top)   # here bottom and top indicates the min and the max limits of  y-axis respectively\n",
    "```"
   ]
  },
  {
   "cell_type": "markdown",
   "metadata": {
    "id": "xC7OYOonbtKj"
   },
   "source": [
    "To change the plot title and axis labels:\n",
    "\n",
    "```\n",
    "    plt.title() \n",
    "    plt.xlabel()   # for x_axis labels\n",
    "    plt.ylabel()   # for y_axis labels\n",
    "```"
   ]
  },
  {
   "cell_type": "markdown",
   "metadata": {
    "id": "uQdwXg3C75hT"
   },
   "source": [
    "To show the grid lines of a plot:\n",
    "\n",
    "```\n",
    "    sns.set(style=\"darkgrid\")\n",
    "    sns.set(style=\"whitegrid\")\n",
    "    sns.set(style=\"white\")\n",
    "```"
   ]
  },
  {
   "cell_type": "markdown",
   "metadata": {
    "id": "8YBShOtQdDkA"
   },
   "source": [
    "To hide the axes of a plot:\n",
    "\n",
    "```\n",
    "    plt.axis('off')   # it will hide both the x-axis and y-axis\n",
    "```"
   ]
  },
  {
   "cell_type": "markdown",
   "metadata": {
    "id": "3jD1WhQajLLa"
   },
   "source": [
    "To customize labels of the plot legend:\n",
    "\n",
    "```\n",
    "    ax.legend([])   # takes list of the legend values \n",
    "```"
   ]
  },
  {
   "cell_type": "markdown",
   "metadata": {
    "id": "Gaa2M7Ie75hT"
   },
   "source": [
    "To change the position of the plot legend:\n",
    "\n",
    "```\n",
    "    plt.legend(loc=___)\n",
    "```\n",
    "\n",
    "The following values can be added to *loc* to change the location of the legend:\n",
    "- 'upper left', 'upper right', 'lower left', 'lower right', 'center', 'best', [etc.](https://matplotlib.org/stable/api/_as_gen/matplotlib.pyplot.legend.html)"
   ]
  },
  {
   "cell_type": "markdown",
   "metadata": {
    "id": "Gka2S_UAwixj"
   },
   "source": [
    "**Let's see how we can customize a histogram.**"
   ]
  },
  {
   "cell_type": "code",
   "execution_count": null,
   "metadata": {
    "colab": {
     "base_uri": "https://localhost:8080/"
    },
    "id": "JLJs-6TUwfQs",
    "outputId": "5996e53c-778e-46a3-b0f7-73c14e0f62a5"
   },
   "outputs": [],
   "source": [
    "plt.title('Histogram: Price')\n",
    "plt.xlim(3000,50000)\n",
    "plt.ylim(0,70)\n",
    "plt.xlabel('Price of cars')\n",
    "plt.ylabel('Frequency')\n",
    "sns.histplot(data=df, x='price', color='orange');"
   ]
  },
  {
   "cell_type": "markdown",
   "metadata": {
    "id": "EKK6WXds9hWw"
   },
   "source": [
    "**Let's see how we can customize a boxplot**"
   ]
  },
  {
   "cell_type": "code",
   "execution_count": null,
   "metadata": {
    "colab": {
     "base_uri": "https://localhost:8080/"
    },
    "id": "-mQ93PiW9m0r",
    "outputId": "6e97e8ed-bc2f-457e-c1c4-d38e8770e7a0"
   },
   "outputs": [],
   "source": [
    "plt.title('Boxplot: Horsepower')\n",
    "plt.xlim(30,300)\n",
    "plt.xlabel('Horsepower')\n",
    "sns.axes_style('whitegrid')\n",
    "sns.boxplot(data=df, x='horsepower', color='green');"
   ]
  },
  {
   "cell_type": "markdown",
   "metadata": {
    "id": "kkLBjFcbEgtg"
   },
   "source": [
    "**We can further customize the barplot as follows.**"
   ]
  },
  {
   "cell_type": "code",
   "execution_count": null,
   "metadata": {
    "colab": {
     "base_uri": "https://localhost:8080/"
    },
    "id": "4q223RFD5IuW",
    "outputId": "c0831ce4-7320-4bc8-d42f-b3f52d65a7ce"
   },
   "outputs": [],
   "source": [
    "plt.figure(figsize=(10,7))\n",
    "plt.title('Barplot: Engine-type')\n",
    "plt.ylim(0,180)\n",
    "plt.xlabel('Engine-type')\n",
    "sns.countplot(data=df, x='engine_type', hue='fuel_type');"
   ]
  },
  {
   "cell_type": "markdown",
   "metadata": {
    "id": "3y_u5xZv5IuW"
   },
   "source": [
    "## Lineplot\n",
    "\n",
    "Suppose, your dataset has multiple y values for each x value.  A lineplot is a great way to visualize this.  This type of data often shows up when we have data that evolves over time, for example, when we have monthly data over several years.  If we want to compare the individual months, then a line plot is a great option.  This is sometimes called seasonality analysis.\n",
    "\n"
   ]
  },
  {
   "cell_type": "code",
   "execution_count": null,
   "metadata": {
    "colab": {
     "base_uri": "https://localhost:8080/",
     "height": 34
    },
    "id": "AVLSppnef9Ks",
    "outputId": "428f1eed-a841-4b47-d64c-d6c7a62daac9"
   },
   "outputs": [],
   "source": [
    "from IPython.display import Image\n",
    "Image('/content/drive/MyDrive/Python Course/Line_plot.png')"
   ]
  },
  {
   "cell_type": "markdown",
   "metadata": {
    "id": "ddvSSLq9OxKy"
   },
   "source": [
    "- A **line plot** uses straight lines to connect individual data points to display a trend or pattern in the data.\n",
    "    - For example, seasonal effects and large changes over time.\n",
    "\n",
    "- The *lineplot()* function of seaborn, by default, aggregates over multiple y values at each value of x and uses an estimate of the central tendency for the plot.\n",
    "\n",
    "- *lineplot()* assumes that you are most often trying to draw y as a function of x. So, by default, it sorts the data by the x values before plotting."
   ]
  },
  {
   "cell_type": "code",
   "execution_count": null,
   "metadata": {
    "colab": {
     "base_uri": "https://localhost:8080/",
     "height": 281
    },
    "id": "PYEci6FO5IuW",
    "outputId": "7e23cd46-4f04-4392-df81-a8ac1ad1ed3b"
   },
   "outputs": [],
   "source": [
    "# loading one of the example datasets available in seaborn\n",
    "flights = sns.load_dataset(\"flights\")\n",
    "\n",
    "# creating a line plot\n",
    "sns.lineplot(data = flights , x = 'month' , y = 'passengers');"
   ]
  },
  {
   "cell_type": "markdown",
   "metadata": {
    "id": "MEfKsJUflDzJ"
   },
   "source": [
    "- The light blue shaded area is actually the '**confidence interval**' of the y-value estimates for each x-axis value.\n",
    "\n",
    "- The **confidence interval** is a range of values around that estimate that are believed to contain the true value of that estimate with a certain probability."
   ]
  },
  {
   "cell_type": "markdown",
   "metadata": {
    "id": "Qta0NdaV5IuW"
   },
   "source": [
    "**We can switch off the confidence intervals by setting the *ci* parameter to *'False'*.**"
   ]
  },
  {
   "cell_type": "code",
   "execution_count": null,
   "metadata": {
    "colab": {
     "base_uri": "https://localhost:8080/",
     "height": 279
    },
    "id": "QC4Bl2dz5IuW",
    "outputId": "2a73cf9e-eab9-4b0a-9e74-58e97cd38337"
   },
   "outputs": [],
   "source": [
    "sns.lineplot(data=flights , x='month' , y='passengers', ci=False);"
   ]
  },
  {
   "cell_type": "markdown",
   "metadata": {
    "id": "I5j3we4V5IuX"
   },
   "source": [
    "**We can also check the relationship between two variables for different categories by specifying the *hue* parameter.**"
   ]
  },
  {
   "cell_type": "code",
   "execution_count": null,
   "metadata": {
    "colab": {
     "base_uri": "https://localhost:8080/",
     "height": 279
    },
    "id": "Cn-ki_Cb5IuX",
    "outputId": "779a9a6d-30a4-4321-e213-9d67ec28893b"
   },
   "outputs": [],
   "source": [
    "sns.lineplot(data=flights, x='month', y='passengers', ci=False, hue='year');"
   ]
  },
  {
   "cell_type": "markdown",
   "metadata": {
    "id": "AsHYYzFnrhh9"
   },
   "source": [
    "**We can change the style of the lines by adding 'style' parameter to the function.**"
   ]
  },
  {
   "cell_type": "code",
   "execution_count": null,
   "metadata": {
    "colab": {
     "base_uri": "https://localhost:8080/",
     "height": 279
    },
    "id": "H2EvcdWB5IuX",
    "outputId": "44c9d884-7d75-4969-e26e-747d46ba4442"
   },
   "outputs": [],
   "source": [
    "# loading one of the example datasets available in seaborn\n",
    "fmri = sns.load_dataset(\"fmri\")\n",
    "\n",
    "# creating the line plot\n",
    "sns.lineplot(data=fmri, x=\"timepoint\", y=\"signal\", hue=\"region\", style=\"region\", ci=False);"
   ]
  },
  {
   "cell_type": "markdown",
   "metadata": {
    "id": "l2QreA4ls8pk"
   },
   "source": [
    "**We can also add markers at each observation to identify groups in a better way.**"
   ]
  },
  {
   "cell_type": "code",
   "execution_count": null,
   "metadata": {
    "colab": {
     "base_uri": "https://localhost:8080/",
     "height": 279
    },
    "id": "eI-U5TIfsuXF",
    "outputId": "ff8c1a4b-92dc-430a-bf2b-cf757c05492f"
   },
   "outputs": [],
   "source": [
    "sns.lineplot(data=fmri, x=\"timepoint\", y=\"signal\", hue=\"region\", style=\"region\", ci=False, markers=True);"
   ]
  },
  {
   "cell_type": "markdown",
   "metadata": {
    "id": "LITD773h5IuX"
   },
   "source": [
    "**Let's customize the lineplot for a better visualization.**"
   ]
  },
  {
   "cell_type": "code",
   "execution_count": null,
   "metadata": {
    "id": "fzdQlcs6_u3_"
   },
   "outputs": [],
   "source": []
  },
  {
   "cell_type": "code",
   "execution_count": null,
   "metadata": {
    "colab": {
     "base_uri": "https://localhost:8080/",
     "height": 442
    },
    "id": "QU06o0KM5IuX",
    "outputId": "2f327e2e-3574-48ef-9cb6-931f1848a398"
   },
   "outputs": [],
   "source": [
    "plt.figure(figsize = (15,7))\n",
    "sns.lineplot(data = flights , x = 'month' , y = 'passengers', hue = 'year')\n",
    "plt.ylabel('Number of Passengers')\n",
    "plt.legend(bbox_to_anchor=[1, 1]); #another way to change the legend's location in the plot"
   ]
  },
  {
   "cell_type": "markdown",
   "metadata": {
    "id": "CHjHKurcxv5K"
   },
   "source": [
    "- Note that, unlike barplots and histograms, line plots may not include a zero baseline.\n",
    "- We create a line chart is to emphasize changes in value, rather than the magnitude of the values themselves, and hence, a zero line is not meaningful."
   ]
  },
  {
   "cell_type": "markdown",
   "metadata": {
    "id": "2I1yAy1n5IuX"
   },
   "source": [
    "## Scatterplot\n",
    "\n",
    "Sometimes we want to know if two variables mean something when put together, whether a small change in one variable affects the other variable. In such cases, plotting a **scatterplot**, or **scatter-diagram**, with our data points can help us to check whether there is a potential relationship between them."
   ]
  },
  {
   "cell_type": "markdown",
   "metadata": {
    "id": "cwreKVcrzwpH"
   },
   "source": [
    "- A **scatterplot** is the simplest mode of a diagrammatic representation of two variables.\n",
    "- It takes two perpendicular axes of coordinates, one for x and one for y.\n",
    "- Unlike the lineplot, it directly plots each pair of values as a point on the 2D space.\n",
    "- The *scatterplot()* function of seaborn can be used to make a scatterplot."
   ]
  },
  {
   "cell_type": "code",
   "execution_count": null,
   "metadata": {
    "colab": {
     "base_uri": "https://localhost:8080/"
    },
    "id": "Q7Y25sHm5IuX",
    "outputId": "a9bfd002-6be8-411e-d85a-1895e1a82cef"
   },
   "outputs": [],
   "source": [
    "sns.scatterplot(data=df, x='engine_size', y='horsepower');"
   ]
  },
  {
   "cell_type": "markdown",
   "metadata": {
    "id": "Y4BpkiMy5IuX"
   },
   "source": [
    "**We can also check the relationship between two variables for different categories by specifying the *hue* parameter.**"
   ]
  },
  {
   "cell_type": "code",
   "execution_count": null,
   "metadata": {
    "colab": {
     "base_uri": "https://localhost:8080/"
    },
    "id": "A--g5LGm5IuX",
    "outputId": "278d1548-2caa-46f1-a566-f3f1037c6867"
   },
   "outputs": [],
   "source": [
    "sns.scatterplot(data=df, x='engine_size', y='horsepower', hue='fuel_type');"
   ]
  },
  {
   "cell_type": "markdown",
   "metadata": {
    "id": "nt4Ou1mPKBqq"
   },
   "source": [
    "**We can assign the same variable as *hue* to another parameter *style* which will vary the markers and create a more readable plot.**"
   ]
  },
  {
   "cell_type": "code",
   "execution_count": null,
   "metadata": {
    "colab": {
     "base_uri": "https://localhost:8080/"
    },
    "id": "6nAcr_rQKQN9",
    "outputId": "2385503f-b37b-43f3-c2a9-b39af54a1a8b"
   },
   "outputs": [],
   "source": [
    "sns.scatterplot(data=df, x='engine_size', y='horsepower', hue='fuel_type', style='fuel_type');"
   ]
  },
  {
   "cell_type": "markdown",
   "metadata": {
    "id": "qUGTRzhO5IuX"
   },
   "source": [
    "**Correlation**\n",
    "\n",
    "Correlation means association. More precisely, it expresses the extent to which two variables change together at a constant rate.\n",
    "\n",
    "- In a scatter plot when the y variable tends to increase as the x variable increases, we say there is a **positive correlation** between the variables.\n",
    "- Again, when the y variable tends to decrease as the x variable increases, we say there is a **negative correlation** between the variables.\n",
    "- If the points on the scatter plot seem to be scattered randomly, we say that there is **no correlation** between the variables.\n",
    "\n",
    "**Let's check out the relationship between a few more variables using scatter plots.**"
   ]
  },
  {
   "cell_type": "code",
   "execution_count": null,
   "metadata": {
    "colab": {
     "base_uri": "https://localhost:8080/"
    },
    "id": "hmi7wg7I5IuY",
    "outputId": "8f468f89-eb52-4675-d4fe-c47dcd763b6f"
   },
   "outputs": [],
   "source": [
    "sns.scatterplot(data=df, x='curb_weight', y='engine_size');"
   ]
  },
  {
   "cell_type": "markdown",
   "metadata": {
    "id": "rLjFCIXTJILW"
   },
   "source": [
    "From the above plot, we can say that these variables are *positively correlated.*"
   ]
  },
  {
   "cell_type": "code",
   "execution_count": null,
   "metadata": {
    "colab": {
     "base_uri": "https://localhost:8080/"
    },
    "id": "uteVal3Q5IuY",
    "outputId": "2c818cbf-1ccd-4193-a19a-769b8ddf7e99"
   },
   "outputs": [],
   "source": [
    "sns.scatterplot(data=df, x='bore', y='stroke');"
   ]
  },
  {
   "cell_type": "markdown",
   "metadata": {
    "id": "MGaL-lfpJbnC"
   },
   "source": [
    "- From the above plot, it is clear that the variables have no correlation.\n",
    "\n",
    "**Note:**\n",
    "1. A strong correlation will have data points close together, while a weak correlation will have data points that are further apart.\n",
    "2. We can not measure the relationship quantitatively using a scatter plot. It just gives an expression for the relative change between the variables."
   ]
  },
  {
   "cell_type": "markdown",
   "metadata": {
    "id": "rQrkio9KkNB6"
   },
   "source": [
    "We can see from the scatterplot of `engine_size` vs `horsepower` that there is a positive correlation between the two variables. Now, we want to measure the relationship between these two variables quantitatively and try to predict the '**horsepower**' based on '**engine size**'. This can be easily done by fitting a linear model. Here comes the seaborn ***lmplot()*** function to help us with that."
   ]
  },
  {
   "cell_type": "markdown",
   "metadata": {
    "id": "3rcx8yyM5IuY"
   },
   "source": [
    "## lmplot\n",
    "\n",
    "- The *lmplot()* function plots a scatterplot and also fit a linear model with a confidence interval for the fitted model."
   ]
  },
  {
   "cell_type": "code",
   "execution_count": null,
   "metadata": {
    "colab": {
     "base_uri": "https://localhost:8080/"
    },
    "id": "G9YVMZBU5IuY",
    "outputId": "c0c786d8-dbb2-42ec-9628-20ac924a6ba6"
   },
   "outputs": [],
   "source": [
    "sns.lmplot(data=df, x='curb_weight', y='horsepower');"
   ]
  },
  {
   "cell_type": "markdown",
   "metadata": {
    "id": "CNf18zOA5IuY"
   },
   "source": [
    "**We can also check the relationship between two variables for different categories by specifying the *hue* parameter.**"
   ]
  },
  {
   "cell_type": "code",
   "execution_count": null,
   "metadata": {
    "colab": {
     "base_uri": "https://localhost:8080/"
    },
    "id": "pJJB8Gh35IuY",
    "outputId": "ed9336ee-0eba-4f31-9ad6-c316d3de757a"
   },
   "outputs": [],
   "source": [
    "sns.lmplot(data=df, x='curb_weight', y='horsepower', hue='fuel_type',ci=False);"
   ]
  },
  {
   "cell_type": "markdown",
   "metadata": {
    "id": "A8fsEnG85IuY"
   },
   "source": [
    "**We can also disable the 95% confidence interval and just keep the regression model fit by setting the *ci* parameter to *False*.**"
   ]
  },
  {
   "cell_type": "code",
   "execution_count": null,
   "metadata": {
    "colab": {
     "base_uri": "https://localhost:8080/"
    },
    "id": "a5aD2wjl5IuY",
    "outputId": "9109261e-99a1-44f8-d319-6da140de354d"
   },
   "outputs": [],
   "source": [
    "sns.lmplot(data=df, x='curb_weight', y='horsepower', ci=False);"
   ]
  },
  {
   "cell_type": "markdown",
   "metadata": {
    "id": "SnVjQ4Yu5IuY"
   },
   "source": [
    "**We can also plot the levels of the third variable across different plots.**"
   ]
  },
  {
   "cell_type": "code",
   "execution_count": null,
   "metadata": {
    "colab": {
     "base_uri": "https://localhost:8080/"
    },
    "id": "f5o7WKp85IuY",
    "outputId": "bc8fce7a-a6ca-4355-e47d-ec2669ee41a9"
   },
   "outputs": [],
   "source": [
    "sns.lmplot(data=df, x='curb_weight', y='horsepower', col='fuel_type');"
   ]
  },
  {
   "cell_type": "markdown",
   "metadata": {
    "id": "qlSP-V945IuY"
   },
   "source": [
    "**Let's check out the relationship between a few more variables using *lmplot()*.**"
   ]
  },
  {
   "cell_type": "code",
   "execution_count": null,
   "metadata": {
    "colab": {
     "base_uri": "https://localhost:8080/"
    },
    "id": "hSVOgvhj5IuY",
    "outputId": "700559ba-6d24-40b3-fceb-4c694c894f1d"
   },
   "outputs": [],
   "source": [
    "sns.lmplot(data=df, x='curb_weight', y='engine_size', col='number_of_doors', ci=False)"
   ]
  },
  {
   "cell_type": "code",
   "execution_count": null,
   "metadata": {
    "colab": {
     "base_uri": "https://localhost:8080/"
    },
    "id": "Xs0GAgSO5IuZ",
    "outputId": "476e2d77-04cd-4d8f-d41e-5b46299c787c"
   },
   "outputs": [],
   "source": [
    "sns.lmplot(data=df, x='horsepower', y='price', ci=False);"
   ]
  },
  {
   "cell_type": "markdown",
   "metadata": {
    "id": "gj01MSxVtzzz"
   },
   "source": [
    "We have seen that histograms help us understand the distribution of individual variables and scatterplots help us identify the relationship between two variables. While we can view and analyze these plots separately, having them together in a single visualization would allow us to capture a lot more information in a concise manner. That's where a **jointplot** comes to our aid."
   ]
  },
  {
   "cell_type": "markdown",
   "metadata": {
    "id": "JjWlKXnTJGr9"
   },
   "source": [
    "## Joint plot\n",
    "\n",
    "* A jointplot helps to quickly visualize the bivariate and univariate profiles on the same plot. \n",
    "* It comprises three plots - one displays the relationship between two variables while the other two show the individual distribution of each variable in the margins.\n",
    "* The *jointplot()* function of seaborn can be used to create a jointplot."
   ]
  },
  {
   "cell_type": "code",
   "execution_count": null,
   "metadata": {
    "colab": {
     "base_uri": "https://localhost:8080/"
    },
    "id": "q1qFBMH_J2u4",
    "outputId": "7b17f830-b9aa-46d5-d505-bec3adc7abdc"
   },
   "outputs": [],
   "source": [
    "sns.jointplot(data=df, x='engine_size', y='horsepower');"
   ]
  },
  {
   "cell_type": "markdown",
   "metadata": {
    "id": "2KFtsOhTeYn3"
   },
   "source": [
    "- By default, *jointplot()* creates a scatter plot to show the relationship between two variables and individual histograms are created in x and y axis margins for each of the variables."
   ]
  },
  {
   "cell_type": "markdown",
   "metadata": {
    "id": "BR_sgdskwoyd"
   },
   "source": [
    "One of the drawbacks of **scatterplots** is the overlapping of points. When we have large volumes of data to plot, the data points in the plot overlap with each other, making it difficult to interpret the data.\n",
    "\n",
    "In such cases, we can *divide the entire plot into bins using different shapes (square, triangle, hexagon, etc.)* and then try to see the number of data points falling within each of the bins.\n",
    "\n",
    "seaborn's *jointplot()* provides a '**hex**' kind to plot the data in above-mentioned way. "
   ]
  },
  {
   "cell_type": "markdown",
   "metadata": {
    "id": "17yDXHd5eYn4"
   },
   "source": [
    "**We can create a hexbin plot by setting *kind=\"hex\"*.**\n",
    "\n",
    "- It actually splits the plotting window into several hexagons and the colour of each hexagon denotes the number of data points in it."
   ]
  },
  {
   "cell_type": "code",
   "execution_count": null,
   "metadata": {
    "colab": {
     "base_uri": "https://localhost:8080/"
    },
    "id": "J1Bz3wuFeYn4",
    "outputId": "27385b1b-ff7a-44f2-efd8-57785f4d1851"
   },
   "outputs": [],
   "source": [
    "sns.jointplot(data=df, x='engine_size', y='horsepower', kind=\"hex\");\n",
    "plt.colorbar(); # adds a separate axis indicating the color scale in this plot"
   ]
  },
  {
   "cell_type": "markdown",
   "metadata": {
    "id": "jZkVXs6TuQA8"
   },
   "source": [
    "**We can also create a kde plot by setting *kind=\"kde\"*.**.\n",
    "\n",
    "- A KDE jointplot also uses color to determine where observations are the most dense.\n",
    "- It creates a continuous plot using probabilities of new data should be introduced."
   ]
  },
  {
   "cell_type": "code",
   "execution_count": null,
   "metadata": {
    "colab": {
     "base_uri": "https://localhost:8080/"
    },
    "id": "NVwnM4t3u8a-",
    "outputId": "5121d915-5979-4267-c886-eb9879618d9f"
   },
   "outputs": [],
   "source": [
    "sns.jointplot(data=df, x='engine_size', y='horsepower', kind=\"kde\", fill=True);"
   ]
  },
  {
   "cell_type": "markdown",
   "metadata": {
    "id": "pd_DFA3deYn4"
   },
   "source": [
    "**Let's check out the joint plots for a few more attributes in the data.**\n",
    "- By using **kind = \"reg\"**, we can use the joint point to find the best line or curve that fits the plot."
   ]
  },
  {
   "cell_type": "code",
   "execution_count": null,
   "metadata": {
    "colab": {
     "base_uri": "https://localhost:8080/"
    },
    "id": "PWMwPK1PeYn4",
    "outputId": "3a9da51d-211a-42cf-d40e-84e523bc832a"
   },
   "outputs": [],
   "source": [
    "sns.jointplot(data=df, x='price', y='city_mpg', kind=\"reg\");"
   ]
  },
  {
   "cell_type": "markdown",
   "metadata": {
    "id": "WyEI358GeYn5"
   },
   "source": [
    "## Violin Plot\n",
    "\n",
    "* A **violin plot** allows us to visualize the distribution of a numeric variable for several groups.\n",
    "* It is similar to **boxplot** but with a rotated plot on each side, giving more information about the density estimate on the y-axis.\n",
    "* The *violinplot()* function of seaborn can be used to make a violin plot."
   ]
  },
  {
   "cell_type": "code",
   "execution_count": null,
   "metadata": {
    "colab": {
     "base_uri": "https://localhost:8080/",
     "height": 279
    },
    "id": "Eb8i04_teYn5",
    "outputId": "798d87a6-72ea-4abe-a1a7-385f571ed3cd"
   },
   "outputs": [],
   "source": [
    "sns.violinplot(data=df, x='horsepower');"
   ]
  },
  {
   "cell_type": "markdown",
   "metadata": {
    "id": "5BnaH-umeYn5"
   },
   "source": [
    "- The white dot in the plot represents the **median**.\n",
    "- The thick gray bar in the center represents the **interquartile range**.\n",
    "- The wider section of the violin plot represents a higher probability and the skinnier sections represent a lower probability for the given value."
   ]
  },
  {
   "cell_type": "markdown",
   "metadata": {
    "id": "TuLaxfKseYn5"
   },
   "source": [
    "**We can get a vertical plot by setting *orient* parameter to *'v'* and assigning a numeric variable to the y-axis.**"
   ]
  },
  {
   "cell_type": "code",
   "execution_count": null,
   "metadata": {
    "colab": {
     "base_uri": "https://localhost:8080/",
     "height": 283
    },
    "id": "gOn27pNIeYn6",
    "outputId": "bafd1b22-e5ec-4345-e20d-23614ff1924f"
   },
   "outputs": [],
   "source": [
    "sns.violinplot(data=df, x='fuel_type', y='horsepower', orient='v');"
   ]
  },
  {
   "cell_type": "markdown",
   "metadata": {
    "id": "_-Ve6XzNeYn6"
   },
   "source": [
    "**Let's check out the violinplots for a few more attributes in the data.**"
   ]
  },
  {
   "cell_type": "code",
   "execution_count": null,
   "metadata": {
    "colab": {
     "base_uri": "https://localhost:8080/",
     "height": 280
    },
    "id": "WtDzN7zeeYn6",
    "outputId": "8bb809ce-8c49-4e8a-8d07-05ec43eda4c9"
   },
   "outputs": [],
   "source": [
    "sns.violinplot(data=df, x='engine_size', y='fuel_type');"
   ]
  },
  {
   "cell_type": "markdown",
   "metadata": {
    "id": "VXHeG4ONeYn6"
   },
   "source": [
    "**We can use the *palette* parameter to change the colour palette.**\n",
    "\n",
    "- seaborn has six variations of it - deep, muted, pastel, bright, dark, colorblind."
   ]
  },
  {
   "cell_type": "code",
   "execution_count": null,
   "metadata": {
    "colab": {
     "base_uri": "https://localhost:8080/",
     "height": 283
    },
    "id": "_liFDJGteYn8",
    "outputId": "ac59a89a-6b73-4a0b-d9d5-2d635b3e8dd3"
   },
   "outputs": [],
   "source": [
    "sns.violinplot(data=df, x='body_style', y='engine_size', palette=\"bright\");"
   ]
  },
  {
   "cell_type": "code",
   "execution_count": null,
   "metadata": {
    "colab": {
     "base_uri": "https://localhost:8080/",
     "height": 280
    },
    "id": "_wPymXZReYn8",
    "outputId": "3c94f42f-0e7d-4cfd-b624-be28f989015a"
   },
   "outputs": [],
   "source": [
    "sns.violinplot(data=df, x='engine_location', y='price', palette=\"colorblind\");"
   ]
  },
  {
   "cell_type": "markdown",
   "metadata": {
    "id": "CTJu7b038AK1"
   },
   "source": [
    "Histograms and other distribution plots are typically preferred for larger data sets. When we have a small dataset and we want to visualize the frequency distribution, a **strip plot** can be used."
   ]
  },
  {
   "cell_type": "markdown",
   "metadata": {
    "id": "PkrTT17beYn8"
   },
   "source": [
    "## Strip Plot\n",
    "\n",
    "* A strip plot is basically a scatter plot that differentiates different categories.\n",
    "* The *stripplot()* function of seaborn can be used to make a strip plot."
   ]
  },
  {
   "cell_type": "code",
   "execution_count": null,
   "metadata": {
    "colab": {
     "base_uri": "https://localhost:8080/"
    },
    "id": "STKc6cO785Pn",
    "outputId": "4458bee7-14a2-4b64-e18e-ba4d7ed3c65e"
   },
   "outputs": [],
   "source": [
    "sns.stripplot(data=df, x='engine_size');"
   ]
  },
  {
   "cell_type": "markdown",
   "metadata": {
    "id": "MqB31jjI-fhf"
   },
   "source": [
    "Strip plots are considered a good alternative to a box plot or a violin plot for comparing data distributions when we have fewer data points."
   ]
  },
  {
   "cell_type": "code",
   "execution_count": null,
   "metadata": {
    "colab": {
     "base_uri": "https://localhost:8080/"
    },
    "id": "4xvVm2xneYn9",
    "outputId": "ecdebdb2-160c-4808-8f73-3641f59dc69b"
   },
   "outputs": [],
   "source": [
    "plt.figure(figsize=(15,7))\n",
    "sns.stripplot(data=df, x='body_style', y='engine_size');"
   ]
  },
  {
   "cell_type": "markdown",
   "metadata": {
    "id": "To6mbpuweYn9"
   },
   "source": [
    "**Strip plots are more useful when we add random noise called \"jitter\" to avoid overlapping of data points with same values.**"
   ]
  },
  {
   "cell_type": "code",
   "execution_count": null,
   "metadata": {
    "colab": {
     "base_uri": "https://localhost:8080/"
    },
    "id": "I4-U5XxVeYn9",
    "outputId": "df86207e-a129-490f-a272-1a84c4d5dfc4"
   },
   "outputs": [],
   "source": [
    "plt.figure(figsize=(20,7))\n",
    "sns.stripplot(data=df, x='body_style', y='engine_size', jitter=True);"
   ]
  },
  {
   "cell_type": "markdown",
   "metadata": {
    "id": "0aSgB8EVeYn9"
   },
   "source": [
    "**We can set the *hue* parameter to display observations for subgroups.**"
   ]
  },
  {
   "cell_type": "code",
   "execution_count": null,
   "metadata": {
    "colab": {
     "base_uri": "https://localhost:8080/"
    },
    "id": "9YEXLrHveYn9",
    "outputId": "c1db454a-a92f-4e1c-cec0-218ea82bf904"
   },
   "outputs": [],
   "source": [
    "plt.figure(figsize=(10,7))\n",
    "sns.stripplot(data=df, x='fuel_type', y='engine_size', hue=\"number_of_doors\", jitter=True);"
   ]
  },
  {
   "cell_type": "markdown",
   "metadata": {
    "id": "Oz_fkYA8eYn9"
   },
   "source": [
    "**Let's check out the strip plots for a few more attributes in the data.**"
   ]
  },
  {
   "cell_type": "code",
   "execution_count": null,
   "metadata": {
    "colab": {
     "base_uri": "https://localhost:8080/"
    },
    "id": "Veh5lHaJeYn9",
    "outputId": "933b8ce2-2a3d-4aca-b862-354837d6860a"
   },
   "outputs": [],
   "source": [
    "plt.figure(figsize=(10,7))\n",
    "sns.stripplot(data=df, x='number_of_doors', y='price',jitter=True);"
   ]
  },
  {
   "cell_type": "code",
   "execution_count": null,
   "metadata": {
    "colab": {
     "base_uri": "https://localhost:8080/"
    },
    "id": "Cb45rNzzeYn-",
    "outputId": "855a019b-5673-4893-ae73-af79994a8925"
   },
   "outputs": [],
   "source": [
    "plt.figure(figsize=(10,7))\n",
    "sns.stripplot(data=df, x='number_of_doors', y='horsepower', jitter=True);"
   ]
  },
  {
   "cell_type": "markdown",
   "metadata": {
    "id": "YtaZxsyCeYn-"
   },
   "source": [
    "In a strip plot, dots are randomly arranged in vertical direction, which means we can not use the width to estimate distribution. This can be easily done by **swarm plots**."
   ]
  },
  {
   "cell_type": "markdown",
   "metadata": {
    "id": "tdiUa4JHeYn-"
   },
   "source": [
    "## Swarm Plot\n",
    "\n",
    "* A **swarm plot** is very similar to the strip plot, but it avoids the overlapping of points.\n",
    "* The *swarmplot( )* function of seaborn can be used to create such a graph for categorical values."
   ]
  },
  {
   "cell_type": "code",
   "execution_count": null,
   "metadata": {
    "colab": {
     "base_uri": "https://localhost:8080/"
    },
    "id": "dW9npMceeYn-",
    "outputId": "96758686-3d4d-4f7e-90ba-1977b69543cd"
   },
   "outputs": [],
   "source": [
    "sns.swarmplot(data=df, x='number_of_doors', y='price');"
   ]
  },
  {
   "cell_type": "markdown",
   "metadata": {
    "id": "HED4pVrXeYn-"
   },
   "source": [
    "- In a swarm plot, dots are arranged in vertical columns.\n",
    "- So, we can estimate the distribution of our data by looking at the width of the plot."
   ]
  },
  {
   "cell_type": "markdown",
   "metadata": {
    "id": "cA1IIpOTeYn-"
   },
   "source": [
    "**We can add the *hue* parameter to *swarmplot()* and separate the categories.**"
   ]
  },
  {
   "cell_type": "code",
   "execution_count": null,
   "metadata": {
    "colab": {
     "base_uri": "https://localhost:8080/"
    },
    "id": "oJcc1KB5eYn-",
    "outputId": "4b08f514-6e0d-407c-9b1e-c59e5ebad7e5"
   },
   "outputs": [],
   "source": [
    "sns.swarmplot(data=df, x='fuel_type', y='price', hue='number_of_doors');"
   ]
  },
  {
   "cell_type": "markdown",
   "metadata": {
    "id": "NR-3LzPgeYn-"
   },
   "source": [
    "**We can split the two products setting the *dodge* argument to *True*.**"
   ]
  },
  {
   "cell_type": "code",
   "execution_count": null,
   "metadata": {
    "colab": {
     "base_uri": "https://localhost:8080/"
    },
    "id": "izw1gwC7eYn-",
    "outputId": "8bc73704-f59e-4cf5-a6bf-d662ebe78b2e"
   },
   "outputs": [],
   "source": [
    "sns.swarmplot(data=df, x='fuel_type', y='price', hue='number_of_doors', dodge=True);"
   ]
  },
  {
   "cell_type": "markdown",
   "metadata": {
    "id": "UBxgsBmQeYn-"
   },
   "source": [
    "## Catplot \n",
    "\n",
    "* The *catplot()* function provides a new framework giving access to several types of plots that show relationship between numerical variable and one or more categorical variables.\n",
    "* Catplots supports 8 different plots including *stripplot()*, *swarmplot()*, *boxplot()* and more, with the default kind being 'strip'."
   ]
  },
  {
   "cell_type": "code",
   "execution_count": null,
   "metadata": {
    "colab": {
     "base_uri": "https://localhost:8080/"
    },
    "id": "oJYSXs2oeYn_",
    "outputId": "cba16efc-82dd-44f8-e6ae-5e5a32f31068"
   },
   "outputs": [],
   "source": [
    "sns.catplot(data=df, x='fuel_type', y='horsepower');"
   ]
  },
  {
   "cell_type": "markdown",
   "metadata": {
    "id": "bm9T28uieYn_"
   },
   "source": [
    "**We can set *kind='point'* to create a pointplot using the *catplot()* function.**\n",
    "\n",
    "- A pointplot helps us to see how the main relationship is changing as a function of the second variable."
   ]
  },
  {
   "cell_type": "code",
   "execution_count": null,
   "metadata": {
    "colab": {
     "base_uri": "https://localhost:8080/"
    },
    "id": "PBBJM3wqeYn_",
    "outputId": "7b082f49-d86e-4516-811b-24d1962e147e"
   },
   "outputs": [],
   "source": [
    "sns.catplot(data=df, x='body_style', y='horsepower', hue='fuel_type', kind='point');"
   ]
  },
  {
   "cell_type": "markdown",
   "metadata": {
    "id": "9-gsxIXLeYn_"
   },
   "source": [
    "**Catplot is very useful to draw categorical plots onto a FacetGrid by assigning a third variable to the *col* parameter.**"
   ]
  },
  {
   "cell_type": "code",
   "execution_count": null,
   "metadata": {
    "colab": {
     "base_uri": "https://localhost:8080/"
    },
    "id": "ChpMUcuxeYn_",
    "outputId": "cc04677c-2abe-483c-bc90-1704c354d1e8"
   },
   "outputs": [],
   "source": [
    "sns.catplot(data=df, x=\"fuel_type\", y=\"horsepower\", hue=\"number_of_doors\", col=\"drive_wheels\", kind='bar', palette='pastel');"
   ]
  },
  {
   "cell_type": "markdown",
   "metadata": {
    "id": "KOGMFhMheYn_"
   },
   "source": [
    "**Let's check out the *catplot()* function for a few more attributes in the data.**"
   ]
  },
  {
   "cell_type": "code",
   "execution_count": null,
   "metadata": {
    "colab": {
     "base_uri": "https://localhost:8080/"
    },
    "id": "HRX0eooMeYoA",
    "outputId": "daad4af0-64b6-4675-ca70-d21e16c757a1"
   },
   "outputs": [],
   "source": [
    "sns.catplot(data=df, x=\"fuel_type\", y=\"engine_size\", hue=\"body_style\", col=\"number_of_doors\", kind='box', palette='bright');"
   ]
  },
  {
   "cell_type": "code",
   "execution_count": null,
   "metadata": {
    "colab": {
     "base_uri": "https://localhost:8080/"
    },
    "id": "4nWsUDnTeYoA",
    "outputId": "012dfcd7-5dfa-4ede-8863-358da4457f70"
   },
   "outputs": [],
   "source": [
    "sns.catplot(data=df, x=\"number_of_doors\", y=\"price\", hue=\"body_style\", col=\"fuel_type\", kind='swarm', palette='muted');"
   ]
  },
  {
   "cell_type": "markdown",
   "metadata": {
    "id": "T-nlv5e4eYoA"
   },
   "source": [
    "## Pair Plot\n",
    "\n",
    "* A **pairplot** shows the relationship between two numeric variables for each pair of columns in the dataset.\n",
    "* It creates a grid of axes such that each variable in data will be shared in the y-axis across a single row and in the x-axis across a single column.\n",
    "* The *pairplot()* function of seaborn can be used to create such a plot."
   ]
  },
  {
   "cell_type": "code",
   "execution_count": null,
   "metadata": {
    "colab": {
     "base_uri": "https://localhost:8080/"
    },
    "id": "buECcXugeYoA",
    "outputId": "4b915e47-00f1-47a6-89fb-13548fad9f62"
   },
   "outputs": [],
   "source": [
    "sns.pairplot(data=df[['normalized_losses','wheel_base','curb_weight','engine_size','price','peak_rpm']])"
   ]
  },
  {
   "cell_type": "markdown",
   "metadata": {
    "id": "fvE6niNjeYoA"
   },
   "source": [
    "**We can add the *hue* parameter in pairplot to create a semantic mapping.**\n",
    "\n",
    "- It changes the default marginal plot to a layered kde plot.\n",
    "\n",
    "**Also, we can add *vars* parameter to assign a list of variables from the dataset for which we want to create the pairplot.**"
   ]
  },
  {
   "cell_type": "code",
   "execution_count": null,
   "metadata": {
    "colab": {
     "base_uri": "https://localhost:8080/"
    },
    "id": "I1lkcQQoeYoA",
    "outputId": "6be998ca-3f3f-41a6-9b79-75b3e60a1ca9"
   },
   "outputs": [],
   "source": [
    "sns.pairplot(data=df, vars=['wheel_base', 'curb_weight', 'engine_size', 'price'], hue='number_of_doors');"
   ]
  },
  {
   "cell_type": "markdown",
   "metadata": {
    "id": "Dg3A6Di4eYoA"
   },
   "source": [
    "**We can set *corner=True* to plot only the lower triangle of a pairplot.**"
   ]
  },
  {
   "cell_type": "code",
   "execution_count": null,
   "metadata": {
    "colab": {
     "base_uri": "https://localhost:8080/"
    },
    "id": "7ilNWCEBeYoA",
    "outputId": "705520e7-f09f-47db-95c9-f3cc1cdb144d"
   },
   "outputs": [],
   "source": [
    "sns.pairplot(data=df, vars=['wheel_base', 'curb_weight', 'engine_size', 'price'], corner=True);"
   ]
  },
  {
   "cell_type": "markdown",
   "metadata": {
    "id": "-dBmPwyZeYoA"
   },
   "source": [
    "## Heatmap\n",
    "\n",
    "* A **heatmap** is a graphical representation of data as a color-encoded matrix.\n",
    "* It is a great way of representing  the correlation for each pair of columns in the data.\n",
    "* The *heatmap()* function of seaborn helps us to create such a plot."
   ]
  },
  {
   "cell_type": "code",
   "execution_count": null,
   "metadata": {
    "colab": {
     "base_uri": "https://localhost:8080/"
    },
    "id": "wqr2KKEjeYoB",
    "outputId": "5f1e7704-6085-4c5c-9008-dec5c9338c49"
   },
   "outputs": [],
   "source": [
    "sns.heatmap(data=df[['wheel_base','curb_weight','engine_size','price']].corr());"
   ]
  },
  {
   "cell_type": "markdown",
   "metadata": {
    "id": "IAjsxnq-eYoB"
   },
   "source": [
    "**We can set the *annot* parameter to *True* for displaying the numeric value in each cell.**\n",
    "\n",
    "- To remove the color bar, the *cbar* parameter can be set to *False*."
   ]
  },
  {
   "cell_type": "code",
   "execution_count": null,
   "metadata": {
    "colab": {
     "base_uri": "https://localhost:8080/"
    },
    "id": "weuD2UBeeYoB",
    "outputId": "d334c1fc-235f-43b9-8d41-dbe8dcd87ea7"
   },
   "outputs": [],
   "source": [
    "sns.heatmap(data=df[['wheel_base','curb_weight','engine_size','price']].corr(), annot=True, cbar=False);"
   ]
  },
  {
   "cell_type": "markdown",
   "metadata": {
    "id": "LkBbtwdKeYoB"
   },
   "source": [
    "**We can apply a different colormap with the *cmap* parameter for better visual appeal.**"
   ]
  },
  {
   "cell_type": "code",
   "execution_count": null,
   "metadata": {
    "colab": {
     "base_uri": "https://localhost:8080/"
    },
    "id": "zx-CQ-OheYoB",
    "outputId": "4f515cac-2e31-47a9-c49f-b626419ac299"
   },
   "outputs": [],
   "source": [
    "sns.heatmap(data=df[['wheel_base','curb_weight','engine_size','price']].corr(), annot=True, cmap='YlGnBu');"
   ]
  },
  {
   "cell_type": "markdown",
   "metadata": {
    "id": "0J8SBLp0eYoB"
   },
   "source": [
    "## Plotly\n",
    "\n",
    "- **Plotly** is an open-source Python graphing library for building beautiful and interactive visualizations."
   ]
  },
  {
   "cell_type": "code",
   "execution_count": null,
   "metadata": {
    "colab": {
     "base_uri": "https://localhost:8080/"
    },
    "id": "NIQHWyb-75he",
    "outputId": "f1f80439-d8d3-446e-f5e3-ef9aa061e4b7"
   },
   "outputs": [],
   "source": [
    "# let's start by installing plotly\n",
    "!pip install plotly"
   ]
  },
  {
   "cell_type": "code",
   "execution_count": null,
   "metadata": {
    "id": "D9Dizr8teYoB"
   },
   "outputs": [],
   "source": [
    "# importing plotly\n",
    "import plotly.express as px"
   ]
  },
  {
   "cell_type": "markdown",
   "metadata": {
    "id": "sw3mphuneYoB"
   },
   "source": [
    "### Histogram"
   ]
  },
  {
   "cell_type": "code",
   "execution_count": null,
   "metadata": {
    "colab": {
     "base_uri": "https://localhost:8080/",
     "height": 542
    },
    "id": "txhySVjCeYoB",
    "outputId": "67852e93-2cf1-4f2d-af0b-91810dba830d",
    "scrolled": true
   },
   "outputs": [],
   "source": [
    "his = px.histogram(df, x=\"price\")\n",
    "his.show()"
   ]
  },
  {
   "cell_type": "markdown",
   "metadata": {
    "id": "IlCahLQxeYoB"
   },
   "source": [
    "### Bar Plot"
   ]
  },
  {
   "cell_type": "code",
   "execution_count": null,
   "metadata": {
    "colab": {
     "base_uri": "https://localhost:8080/",
     "height": 542
    },
    "id": "uOgSYmUqeYoB",
    "outputId": "bf54a5a4-ea50-4bf2-bbb9-f1c1aaf935ba",
    "scrolled": true
   },
   "outputs": [],
   "source": [
    "bar = px.bar(df, x='peak_rpm', y='horsepower')\n",
    "bar.show()"
   ]
  },
  {
   "cell_type": "markdown",
   "metadata": {
    "id": "UhC25KmOeYoC"
   },
   "source": [
    "### Scatter Plot"
   ]
  },
  {
   "cell_type": "code",
   "execution_count": null,
   "metadata": {
    "colab": {
     "base_uri": "https://localhost:8080/",
     "height": 542
    },
    "id": "wWE4FkNKeYoC",
    "outputId": "bbf3b4e1-5141-445b-eabe-70cecdd569d7",
    "scrolled": true
   },
   "outputs": [],
   "source": [
    "scat = px.scatter(df, x='price', y='engine_size')\n",
    "scat.show()"
   ]
  },
  {
   "cell_type": "markdown",
   "metadata": {
    "id": "c1aNBulPeYoC"
   },
   "source": [
    "### Boxplot with underlying data"
   ]
  },
  {
   "cell_type": "code",
   "execution_count": null,
   "metadata": {
    "colab": {
     "base_uri": "https://localhost:8080/",
     "height": 542
    },
    "id": "E2krft5deYoC",
    "outputId": "eaf67c9f-4e16-4b00-b321-0aac181e7df3",
    "scrolled": true
   },
   "outputs": [],
   "source": [
    "fig = px.box(df, x=\"fuel_type\", y=\"horsepower\", points=\"all\")\n",
    "fig.show()"
   ]
  },
  {
   "cell_type": "markdown",
   "metadata": {
    "id": "JZpdvqaMeYoC"
   },
   "source": [
    "### 3D Scatter Plot"
   ]
  },
  {
   "cell_type": "code",
   "execution_count": null,
   "metadata": {
    "colab": {
     "base_uri": "https://localhost:8080/",
     "height": 542
    },
    "id": "n_Bi3pXKeYoC",
    "outputId": "fe8bf221-65d2-451a-8198-b0922c4849ea"
   },
   "outputs": [],
   "source": [
    "fig_3d = px.scatter_3d(df, x='fuel_type', y='horsepower', z='price', color='horsepower')\n",
    "fig_3d.show()"
   ]
  },
  {
   "cell_type": "code",
   "execution_count": null,
   "metadata": {
    "id": "gHik6nWM75hg"
   },
   "outputs": [],
   "source": [
    "# to save the output to an HTML file\n",
    "fig_3d.write_html(\"scatter_3d.html\")"
   ]
  },
  {
   "cell_type": "markdown",
   "metadata": {
    "id": "u1JDHv5HGHlk"
   },
   "source": [
    "***"
   ]
  }
 ],
 "metadata": {
  "colab": {
   "collapsed_sections": [
    "_ZMHhyuU5IuO",
    "vEInLWSo5IuU",
    "iVf003Gs5IuV",
    "vabRDMbAU5Wi",
    "3y_u5xZv5IuW",
    "2I1yAy1n5IuX",
    "3rcx8yyM5IuY",
    "JjWlKXnTJGr9",
    "WyEI358GeYn5",
    "PkrTT17beYn8",
    "tdiUa4JHeYn-",
    "UBxgsBmQeYn-",
    "T-nlv5e4eYoA",
    "-dBmPwyZeYoA",
    "0J8SBLp0eYoB",
    "sw3mphuneYoB",
    "IlCahLQxeYoB",
    "UhC25KmOeYoC",
    "c1aNBulPeYoC",
    "JZpdvqaMeYoC"
   ],
   "name": "PythonVisualization.ipynb",
   "provenance": [],
   "toc_visible": true
  },
  "kernelspec": {
   "display_name": "Python 3",
   "language": "python",
   "name": "python3"
  },
  "language_info": {
   "codemirror_mode": {
    "name": "ipython",
    "version": 3
   },
   "file_extension": ".py",
   "mimetype": "text/x-python",
   "name": "python",
   "nbconvert_exporter": "python",
   "pygments_lexer": "ipython3",
   "version": "3.8.8"
  }
 },
 "nbformat": 4,
 "nbformat_minor": 1
}
